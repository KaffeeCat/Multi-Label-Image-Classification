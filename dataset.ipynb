{
 "cells": [
  {
   "cell_type": "code",
   "execution_count": 1,
   "metadata": {},
   "outputs": [],
   "source": [
    "import csv\n",
    "import os\n",
    "from PIL import Image\n",
    "from tqdm.notebook import tqdm\n",
    "\n",
    "# set the seed of the random numbers generator, so we can reproduce the results later\n",
    "import numpy as np\n",
    "np.random.seed(42)\n"
   ]
  },
  {
   "cell_type": "markdown",
   "metadata": {},
   "source": [
    "### [Fashion Product Images](https://www.kaggle.com/paramaggarwal/fashion-product-images-small) dataset available on Kaggle.\n",
    "\n",
    "It contains over 44,000 images of clothes and accessories with 9 labels for each image. **style.csv** contains the data labels, for the sake of simplicity, we will use only three labels:\n",
    "- gender\n",
    "- articheType\n",
    "- baseColur\n",
    "\n",
    "![](https://learnopencv.com/wp-content/uploads/2020/03/gt_image_labels-e1585129881369.png)"
   ]
  },
  {
   "cell_type": "code",
   "execution_count": 2,
   "metadata": {},
   "outputs": [
    {
     "data": {
      "application/vnd.jupyter.widget-view+json": {
       "model_id": "75a75c5edd1b48729f8cc9d455d0c051",
       "version_major": 2,
       "version_minor": 0
      },
      "text/plain": [
       "  0%|          | 0/44447 [00:00<?, ?it/s]"
      ]
     },
     "metadata": {},
     "output_type": "display_data"
    }
   ],
   "source": [
    "input_folder = './dataset'\n",
    "annotation = os.path.join(input_folder, 'styles.csv')\n",
    "\n",
    "\n",
    "# open annotation file and collect samples\n",
    "# https://stackoverflow.com/questions/2890549/number-of-lines-in-csv-dictreader\n",
    "samples = []\n",
    "line_num = sum(1 for _ in open(annotation))\n",
    "with open(annotation) as csv_file:\n",
    "\n",
    "    # Parse it as CSV\n",
    "    reader = csv.DictReader(csv_file)\n",
    "\n",
    "    for row in tqdm(reader, total=line_num):\n",
    "\n",
    "        # Dataset in Kaggle\n",
    "        # https://www.kaggle.com/paramaggarwal/fashion-product-images-small\n",
    "        img_id = row['id']\n",
    "        gender = row['gender']\n",
    "        articleType = row['articleType']\n",
    "        baseColour = row['baseColour']\n",
    "\n",
    "        # Check if the file is in place and has correct resolution with 3 channesl\n",
    "        img_name = os.path.join(input_folder, 'images', str(img_id) + '.jpg')\n",
    "        if os.path.exists(img_name):\n",
    "            img = Image.open(img_name)\n",
    "            if img.size == (60,80) and img.mode == \"RGB\":\n",
    "                samples.append([img_name, gender, articleType, baseColour])\n",
    "\n",
    "samples = np.asarray(samples)"
   ]
  },
  {
   "cell_type": "markdown",
   "metadata": {},
   "source": [
    "### Split dataset\n",
    "\n",
    "We are going to use 40,000 images, put 32,000 of them into the training set, and the rest of 8,000 we'll use for the validation."
   ]
  },
  {
   "cell_type": "code",
   "execution_count": 3,
   "metadata": {},
   "outputs": [],
   "source": [
    "def save_csv(data, path, fieldnames=['image_path', 'gender', 'articleType', 'baseColour']):\n",
    "    with open(path, 'w', newline='') as csv_file:\n",
    "        writer = csv.DictWriter(csv_file, fieldnames=fieldnames)\n",
    "        writer.writeheader()\n",
    "        for row in data:\n",
    "            writer.writerow(dict(zip(fieldnames, row)))\n",
    "\n",
    "# Take 40000 samples in random order\n",
    "n = 40000\n",
    "inds = np.random.choice(n, n, replace=False)\n",
    "\n",
    "# Split the data into train/val and save them as csv files\n",
    "train_num = int(n * 0.8)\n",
    "save_csv(samples[inds][:train_num], os.path.join(input_folder, 'train.csv'))\n",
    "save_csv(samples[inds][train_num:-1], os.path.join(input_folder, 'val.csv'))"
   ]
  }
 ],
 "metadata": {
  "interpreter": {
   "hash": "fd8d0bfe1efd3b1f8f87c35071fe325fd8d63da99462de5b0799af5b3b1ab70c"
  },
  "kernelspec": {
   "display_name": "Python 3.7.11 ('pytorch')",
   "language": "python",
   "name": "python3"
  },
  "language_info": {
   "codemirror_mode": {
    "name": "ipython",
    "version": 3
   },
   "file_extension": ".py",
   "mimetype": "text/x-python",
   "name": "python",
   "nbconvert_exporter": "python",
   "pygments_lexer": "ipython3",
   "version": "3.7.11"
  },
  "orig_nbformat": 4
 },
 "nbformat": 4,
 "nbformat_minor": 2
}
